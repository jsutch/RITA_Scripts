{
 "cells": [
  {
   "cell_type": "markdown",
   "metadata": {},
   "source": [
    "# Methodology\n",
    "\n",
    "\n",
    " We want to extend the insights that Zeek and RITA are giving us about the probable sketchiness of particular connections. The goal in this notebook is to explain the data analaysis in a way that other, more fluid, tools can be built. \n",
    " \n",
    " \n",
    "**RITAs statistical analysis plus locally gathered heuristics**   \n",
    " RITA and Zeek are fantastic tools to explore traffic and narrow down bad actors but published blacklists are always laggy and incomplete, when they work and are supported. Also - the scoring doesn't filter for items like DNS or other known-good services, which adds to the SecOps response time to filter.  Here we can bring some low-cost tools to bear and some local understanding to narrow down what to invest time into, good or bad.\n",
    "\n",
    "\n",
    "Some methods we're using:\n",
    "- Combine Beacons and Conns files to identify unique talkers\n",
    "- retrieve BGP Autonomous Systems info to identify originators (or listeners) in Wild West areas\n",
    "\n",
    "also - are we getting connections from nets that practice good hygiene? \n",
    "- does an ip have a DNS entry?\n",
    "- does an ip have a PTR record?\n",
    "\n",
    "What local tools can add dimension?\n",
    "- was the sender identified as malicious by other means? (fail2ban ICMP type 3 returns)\n",
    "\n",
    "\n",
    "Unfortunately these don't work anymore:\n",
    "- MalwareDomains.com\n",
    "- MalwareDomainList.com\n",
    "- malware-domains.com\n",
    "\n",
    "Fresher Blacklist providers (as of 8/2021):\n",
    "- https://urlhaus.abuse.ch/downloads/csv/\n",
    "- https://github.com/curbengh/urlhaus-filter\n",
    "- https://github.com/StevenBlack/hosts\n",
    "\n",
    "\n",
    "\n",
    "**Home and Home Office Networks**  \n",
    "You may want to analyze office or home net traffic and find out chatty corporate tools. You can add your own, but this will add a score to tag \"friendly surveillance\" from Apple, Google, et al. My lists are US-Centric - tailor to your locale. These may or may not be things you want in your custom RITA blacklist, but you may not know what they are yet. \n",
    "\n",
    "\n",
    "\n"
   ]
  },
  {
   "cell_type": "code",
   "execution_count": 1,
   "metadata": {},
   "outputs": [],
   "source": [
    "# imports\n",
    "import pandas as pd\n",
    "import numpy as np\n",
    "\n",
    "# Viz imports\n",
    "import matplotlib.pyplot as plt\n",
    "import seaborn as sns\n",
    "\n",
    "# Config matplotlib\n",
    "%matplotlib inline\n",
    "plt.rcParams[\"patch.force_edgecolor\"] = True # in matplotlib, edge borders are turned off by default.\n",
    "sns.set_style(\"darkgrid\") # set a grey grid as a background\n",
    "\n",
    "# turn off warnings\n",
    "import warnings\n",
    "warnings.filterwarnings('ignore')\n",
    "\n",
    "import csv\n",
    "import json\n",
    "import datetime as datetime\n",
    "import time\n",
    "\n",
    "# ip/AS lookup tools\n",
    "import socket\n",
    "from ipwhois import IPWhois\n",
    "from ipwhois.net import Net\n",
    "from ipwhois.asn import IPASN"
   ]
  },
  {
   "cell_type": "code",
   "execution_count": 2,
   "metadata": {},
   "outputs": [],
   "source": [
    "# define corporate target AS Descriptors\n",
    "invasive_corps = ['AMAZON','APPLE','GOOGLE','MICROSOFT','CLOUDFLARENET','SALESFORCE','AKAMAI','OPENDNS']\n",
    "sketchy_countries = ['CN','RU','VN','HK','TW','IN','BR','RO','HU','KR','IT','UG','TR','MY','BO','CO']\n"
   ]
  },
  {
   "cell_type": "code",
   "execution_count": 3,
   "metadata": {},
   "outputs": [],
   "source": [
    "sketchy_providers = []\n",
    "providers = open('beaconish_asns','r').readlines()\n",
    "for p in providers:\n",
    "    sketchy_providers.append(p.split()[0])"
   ]
  },
  {
   "cell_type": "code",
   "execution_count": 4,
   "metadata": {},
   "outputs": [
    {
     "data": {
      "text/plain": [
       "['AS-SONICTELECOM,', 'ASIANET', 'ASN-SPIN,', 'ASN-WINDTRE', 'BAIDU']"
      ]
     },
     "execution_count": 4,
     "metadata": {},
     "output_type": "execute_result"
    }
   ],
   "source": [
    "sketchy_providers[:5]"
   ]
  },
  {
   "cell_type": "markdown",
   "metadata": {},
   "source": [
    "### load data\n",
    "\n",
    "this takes the output of rita show-long-connections (dfconns) and rita show-beacons (dfbeacons).\n",
    "\n",
    "The obscured IPs must be the same for each file - we merge the two on a matched ipsrc->ipdst key. The df will fail to create if there is nothing to merge on."
   ]
  },
  {
   "cell_type": "code",
   "execution_count": 5,
   "metadata": {},
   "outputs": [],
   "source": [
    "dfbeacons = pd.read_csv('records/scrubbed_ext_20210315062437_beacons.csv')\n",
    "dfconns = pd.read_csv('records/scrubbed_ext_20210315062437_longconns.csv')\n",
    "#dfdns = pd.read_csv('dns.csv')"
   ]
  },
  {
   "cell_type": "code",
   "execution_count": 6,
   "metadata": {},
   "outputs": [
    {
     "data": {
      "text/html": [
       "<div>\n",
       "<style scoped>\n",
       "    .dataframe tbody tr th:only-of-type {\n",
       "        vertical-align: middle;\n",
       "    }\n",
       "\n",
       "    .dataframe tbody tr th {\n",
       "        vertical-align: top;\n",
       "    }\n",
       "\n",
       "    .dataframe thead th {\n",
       "        text-align: right;\n",
       "    }\n",
       "</style>\n",
       "<table border=\"1\" class=\"dataframe\">\n",
       "  <thead>\n",
       "    <tr style=\"text-align: right;\">\n",
       "      <th></th>\n",
       "      <th>Score</th>\n",
       "      <th>Source IP</th>\n",
       "      <th>Destination IP</th>\n",
       "      <th>Connections</th>\n",
       "      <th>Avg Bytes</th>\n",
       "      <th>Intvl Range</th>\n",
       "      <th>Size Range</th>\n",
       "      <th>Top Intvl</th>\n",
       "      <th>Top Size</th>\n",
       "      <th>Top Intvl Count</th>\n",
       "      <th>Top Size Count</th>\n",
       "      <th>Intvl Skew</th>\n",
       "      <th>Size Skew</th>\n",
       "      <th>Intvl Dispersion</th>\n",
       "      <th>Size Dispersion</th>\n",
       "    </tr>\n",
       "  </thead>\n",
       "  <tbody>\n",
       "    <tr>\n",
       "      <th>0</th>\n",
       "      <td>0.874</td>\n",
       "      <td>122.194.229.37</td>\n",
       "      <td>192.168.23.89</td>\n",
       "      <td>43244</td>\n",
       "      <td>60</td>\n",
       "      <td>308072</td>\n",
       "      <td>2583</td>\n",
       "      <td>11</td>\n",
       "      <td>60</td>\n",
       "      <td>7773</td>\n",
       "      <td>43188</td>\n",
       "      <td>0.0</td>\n",
       "      <td>0.0</td>\n",
       "      <td>1</td>\n",
       "      <td>0</td>\n",
       "    </tr>\n",
       "  </tbody>\n",
       "</table>\n",
       "</div>"
      ],
      "text/plain": [
       "   Score       Source IP Destination IP  Connections  Avg Bytes  Intvl Range  \\\n",
       "0  0.874  122.194.229.37  192.168.23.89        43244         60       308072   \n",
       "\n",
       "   Size Range  Top Intvl  Top Size  Top Intvl Count  Top Size Count  \\\n",
       "0        2583         11        60             7773           43188   \n",
       "\n",
       "   Intvl Skew  Size Skew  Intvl Dispersion  Size Dispersion  \n",
       "0         0.0        0.0                 1                0  "
      ]
     },
     "execution_count": 6,
     "metadata": {},
     "output_type": "execute_result"
    }
   ],
   "source": [
    "dfbeacons.head(1)"
   ]
  },
  {
   "cell_type": "code",
   "execution_count": 7,
   "metadata": {},
   "outputs": [
    {
     "data": {
      "text/html": [
       "<div>\n",
       "<style scoped>\n",
       "    .dataframe tbody tr th:only-of-type {\n",
       "        vertical-align: middle;\n",
       "    }\n",
       "\n",
       "    .dataframe tbody tr th {\n",
       "        vertical-align: top;\n",
       "    }\n",
       "\n",
       "    .dataframe thead th {\n",
       "        text-align: right;\n",
       "    }\n",
       "</style>\n",
       "<table border=\"1\" class=\"dataframe\">\n",
       "  <thead>\n",
       "    <tr style=\"text-align: right;\">\n",
       "      <th></th>\n",
       "      <th>Source IP</th>\n",
       "      <th>Destination IP</th>\n",
       "      <th>Port:Protocol:Service</th>\n",
       "      <th>Duration</th>\n",
       "    </tr>\n",
       "  </thead>\n",
       "  <tbody>\n",
       "    <tr>\n",
       "      <th>0</th>\n",
       "      <td>97.113.95.12</td>\n",
       "      <td>192.168.23.89</td>\n",
       "      <td>53718:tcp:- 53716:tcp:- 44496:tcp:- 44494:tcp:...</td>\n",
       "      <td>367302.0</td>\n",
       "    </tr>\n",
       "  </tbody>\n",
       "</table>\n",
       "</div>"
      ],
      "text/plain": [
       "      Source IP Destination IP  \\\n",
       "0  97.113.95.12  192.168.23.89   \n",
       "\n",
       "                               Port:Protocol:Service  Duration  \n",
       "0  53718:tcp:- 53716:tcp:- 44496:tcp:- 44494:tcp:...  367302.0  "
      ]
     },
     "execution_count": 7,
     "metadata": {},
     "output_type": "execute_result"
    }
   ],
   "source": [
    "dfconns.head(1)"
   ]
  },
  {
   "cell_type": "markdown",
   "metadata": {},
   "source": [
    "### merge "
   ]
  },
  {
   "cell_type": "code",
   "execution_count": 8,
   "metadata": {},
   "outputs": [],
   "source": [
    "dfconns['ConnString'] = dfconns['Source IP'] + '->' + dfconns['Destination IP']"
   ]
  },
  {
   "cell_type": "code",
   "execution_count": 9,
   "metadata": {},
   "outputs": [],
   "source": [
    "dfbeacons['ConnString'] = dfbeacons['Source IP'] + '->'+ dfbeacons['Destination IP']"
   ]
  },
  {
   "cell_type": "code",
   "execution_count": 10,
   "metadata": {},
   "outputs": [],
   "source": [
    "df = pd.merge(dfbeacons, dfconns, on=['ConnString'], how='inner')"
   ]
  },
  {
   "cell_type": "code",
   "execution_count": 12,
   "metadata": {},
   "outputs": [
    {
     "data": {
      "text/html": [
       "<div>\n",
       "<style scoped>\n",
       "    .dataframe tbody tr th:only-of-type {\n",
       "        vertical-align: middle;\n",
       "    }\n",
       "\n",
       "    .dataframe tbody tr th {\n",
       "        vertical-align: top;\n",
       "    }\n",
       "\n",
       "    .dataframe thead th {\n",
       "        text-align: right;\n",
       "    }\n",
       "</style>\n",
       "<table border=\"1\" class=\"dataframe\">\n",
       "  <thead>\n",
       "    <tr style=\"text-align: right;\">\n",
       "      <th></th>\n",
       "      <th>Score</th>\n",
       "      <th>Source IP_x</th>\n",
       "      <th>Destination IP_x</th>\n",
       "      <th>Connections</th>\n",
       "      <th>Avg Bytes</th>\n",
       "      <th>Intvl Range</th>\n",
       "      <th>Size Range</th>\n",
       "      <th>Top Intvl</th>\n",
       "      <th>Top Size</th>\n",
       "      <th>Top Intvl Count</th>\n",
       "      <th>Top Size Count</th>\n",
       "      <th>Intvl Skew</th>\n",
       "      <th>Size Skew</th>\n",
       "      <th>Intvl Dispersion</th>\n",
       "      <th>Size Dispersion</th>\n",
       "      <th>ConnString</th>\n",
       "      <th>Source IP_y</th>\n",
       "      <th>Destination IP_y</th>\n",
       "      <th>Port:Protocol:Service</th>\n",
       "      <th>Duration</th>\n",
       "    </tr>\n",
       "  </thead>\n",
       "  <tbody>\n",
       "    <tr>\n",
       "      <th>0</th>\n",
       "      <td>0.835</td>\n",
       "      <td>65.254.18.118</td>\n",
       "      <td>192.168.23.89</td>\n",
       "      <td>1224</td>\n",
       "      <td>88</td>\n",
       "      <td>101090</td>\n",
       "      <td>7306</td>\n",
       "      <td>600</td>\n",
       "      <td>60</td>\n",
       "      <td>1052</td>\n",
       "      <td>1201</td>\n",
       "      <td>0.0</td>\n",
       "      <td>0.0</td>\n",
       "      <td>0</td>\n",
       "      <td>0</td>\n",
       "      <td>65.254.18.118-&gt;192.168.23.89</td>\n",
       "      <td>65.254.18.118</td>\n",
       "      <td>192.168.23.89</td>\n",
       "      <td>25:tcp:- 25:tcp:smtp</td>\n",
       "      <td>596.079</td>\n",
       "    </tr>\n",
       "    <tr>\n",
       "      <th>1</th>\n",
       "      <td>0.834</td>\n",
       "      <td>104.153.105.82</td>\n",
       "      <td>192.168.23.89</td>\n",
       "      <td>272</td>\n",
       "      <td>1762</td>\n",
       "      <td>356385</td>\n",
       "      <td>147842</td>\n",
       "      <td>1</td>\n",
       "      <td>0</td>\n",
       "      <td>81</td>\n",
       "      <td>189</td>\n",
       "      <td>0.0</td>\n",
       "      <td>0.0</td>\n",
       "      <td>0</td>\n",
       "      <td>0</td>\n",
       "      <td>104.153.105.82-&gt;192.168.23.89</td>\n",
       "      <td>104.153.105.82</td>\n",
       "      <td>192.168.23.89</td>\n",
       "      <td>80:tcp:- 443:tcp:- 53:udp:dns</td>\n",
       "      <td>149.911</td>\n",
       "    </tr>\n",
       "    <tr>\n",
       "      <th>2</th>\n",
       "      <td>0.832</td>\n",
       "      <td>192.168.23.89</td>\n",
       "      <td>212.70.149.71</td>\n",
       "      <td>3005</td>\n",
       "      <td>104</td>\n",
       "      <td>7209</td>\n",
       "      <td>45408</td>\n",
       "      <td>110</td>\n",
       "      <td>88</td>\n",
       "      <td>930</td>\n",
       "      <td>2965</td>\n",
       "      <td>0.0</td>\n",
       "      <td>0.0</td>\n",
       "      <td>1</td>\n",
       "      <td>0</td>\n",
       "      <td>192.168.23.89-&gt;212.70.149.71</td>\n",
       "      <td>192.168.23.89</td>\n",
       "      <td>212.70.149.71</td>\n",
       "      <td>3:icmp:-</td>\n",
       "      <td>7123.610</td>\n",
       "    </tr>\n",
       "  </tbody>\n",
       "</table>\n",
       "</div>"
      ],
      "text/plain": [
       "   Score     Source IP_x Destination IP_x  Connections  Avg Bytes  \\\n",
       "0  0.835   65.254.18.118    192.168.23.89         1224         88   \n",
       "1  0.834  104.153.105.82    192.168.23.89          272       1762   \n",
       "2  0.832   192.168.23.89    212.70.149.71         3005        104   \n",
       "\n",
       "   Intvl Range  Size Range  Top Intvl  Top Size  Top Intvl Count  \\\n",
       "0       101090        7306        600        60             1052   \n",
       "1       356385      147842          1         0               81   \n",
       "2         7209       45408        110        88              930   \n",
       "\n",
       "   Top Size Count  Intvl Skew  Size Skew  Intvl Dispersion  Size Dispersion  \\\n",
       "0            1201         0.0        0.0                 0                0   \n",
       "1             189         0.0        0.0                 0                0   \n",
       "2            2965         0.0        0.0                 1                0   \n",
       "\n",
       "                      ConnString     Source IP_y Destination IP_y  \\\n",
       "0   65.254.18.118->192.168.23.89   65.254.18.118    192.168.23.89   \n",
       "1  104.153.105.82->192.168.23.89  104.153.105.82    192.168.23.89   \n",
       "2   192.168.23.89->212.70.149.71   192.168.23.89    212.70.149.71   \n",
       "\n",
       "           Port:Protocol:Service  Duration  \n",
       "0           25:tcp:- 25:tcp:smtp   596.079  \n",
       "1  80:tcp:- 443:tcp:- 53:udp:dns   149.911  \n",
       "2                       3:icmp:-  7123.610  "
      ]
     },
     "execution_count": 12,
     "metadata": {},
     "output_type": "execute_result"
    }
   ],
   "source": [
    "df.head(3)"
   ]
  },
  {
   "cell_type": "markdown",
   "metadata": {},
   "source": [
    "### clean up merge data\n",
    "\n",
    "since the merge key is an amagalm of connection to connection strings, the Source IP and Destination IP collision columns _x and _y should be erroneous."
   ]
  },
  {
   "cell_type": "markdown",
   "metadata": {},
   "source": [
    "**delete _ys and rename _x**"
   ]
  },
  {
   "cell_type": "code",
   "execution_count": 13,
   "metadata": {},
   "outputs": [],
   "source": [
    "del df['Source IP_y']"
   ]
  },
  {
   "cell_type": "code",
   "execution_count": 14,
   "metadata": {},
   "outputs": [],
   "source": [
    "del df['Destination IP_y']"
   ]
  },
  {
   "cell_type": "code",
   "execution_count": 15,
   "metadata": {},
   "outputs": [],
   "source": [
    "df.rename(columns={\"Destination IP_x\": \"Destination IP\",'Source IP_x':'Source IP'}, inplace=True)"
   ]
  },
  {
   "cell_type": "code",
   "execution_count": 16,
   "metadata": {},
   "outputs": [
    {
     "data": {
      "text/plain": [
       "Index(['Score', 'Source IP', 'Destination IP', 'Connections', 'Avg Bytes',\n",
       "       'Intvl Range', 'Size Range', 'Top Intvl', 'Top Size', 'Top Intvl Count',\n",
       "       'Top Size Count', 'Intvl Skew', 'Size Skew', 'Intvl Dispersion',\n",
       "       'Size Dispersion', 'ConnString', 'Port:Protocol:Service', 'Duration'],\n",
       "      dtype='object')"
      ]
     },
     "execution_count": 16,
     "metadata": {},
     "output_type": "execute_result"
    }
   ],
   "source": [
    "df.columns"
   ]
  },
  {
   "cell_type": "markdown",
   "metadata": {},
   "source": [
    "### adding hostname lookups"
   ]
  },
  {
   "cell_type": "code",
   "execution_count": 17,
   "metadata": {},
   "outputs": [],
   "source": [
    "def iplookup(ipaddress):\n",
    "    #print(ipaddress)\n",
    "    try: \n",
    "        fullhostname = socket.gethostbyaddr(ipaddress)\n",
    "        hostname = fullhostname[0]\n",
    "    except Exception as e:\n",
    "        hostname = ipaddress\n",
    "    return hostname"
   ]
  },
  {
   "cell_type": "markdown",
   "metadata": {},
   "source": [
    "#### This takes awhile."
   ]
  },
  {
   "cell_type": "code",
   "execution_count": 18,
   "metadata": {},
   "outputs": [],
   "source": [
    "df['Source Name'] = df['Source IP'].apply(iplookup)"
   ]
  },
  {
   "cell_type": "markdown",
   "metadata": {},
   "source": [
    "#### This takes even longer.\n",
    "\n",
    "Garbage connections often don't have a DNS record. The timeout process makes this table take awhile to build"
   ]
  },
  {
   "cell_type": "code",
   "execution_count": null,
   "metadata": {},
   "outputs": [],
   "source": [
    "# this takes awhile thanks to DNS timeouts\n",
    "#start = datetime.datetime.now()\n",
    "df['Destination Name'] = df['Destination IP'].apply(iplookup)\n"
   ]
  },
  {
   "cell_type": "code",
   "execution_count": null,
   "metadata": {},
   "outputs": [],
   "source": [
    "df.head()"
   ]
  },
  {
   "cell_type": "markdown",
   "metadata": {},
   "source": [
    "### Describing the IP sets"
   ]
  },
  {
   "cell_type": "code",
   "execution_count": null,
   "metadata": {},
   "outputs": [],
   "source": [
    "# unique localhosts\n",
    "len(df['Source IP'].unique())"
   ]
  },
  {
   "cell_type": "code",
   "execution_count": null,
   "metadata": {},
   "outputs": [],
   "source": [
    "df['Source IP'].unique()"
   ]
  },
  {
   "cell_type": "code",
   "execution_count": null,
   "metadata": {},
   "outputs": [],
   "source": [
    "# unique targets\n",
    "len(df['Destination IP'].unique())"
   ]
  },
  {
   "cell_type": "code",
   "execution_count": null,
   "metadata": {},
   "outputs": [],
   "source": [
    "# unique connections\n",
    "len(df['ConnString'].unique())"
   ]
  },
  {
   "cell_type": "markdown",
   "metadata": {},
   "source": [
    "### Adding AS info\n",
    "\n",
    "If you're reading this I'm guessing that you probably already know what all this is and get why we're grading  data in this way. If not, read on:\n",
    "\n",
    "**Quick BGP/AS intro (stolen liberally from Cloudflare's great tutorial):**  \n",
    "The *Border Gateway Protocol (BGP)* is the postal service of the Internet. To manage these endpoints each network broken into smaller networks known as *Autonomous systems (AS)*. Each of these networks is essentially a large pool of routers run by a single organization. \n",
    "\n",
    "If we continue to think of BGP as the postal service of the Internet, AS’s are like individual post office branches. A town may have hundreds of mailboxes, but the mail in those boxes must go through the local postal branch before being routed to another destination. The internal routers within an AS are like mailboxes, they forward their outbound transmissions to the AS, which then uses BGP routing to get these transmissions to their destinations.\n",
    "\n",
    "To get on the Internet you need an IP Block, which needs a BGP AS. The companies that own the AS are responsible for the traffic that goes through them. If you have a lot of bad traffic coming from one server in an AS then there's reason to believe that blocks in other IP space controlled by that AS are also probably poorly managed. \n",
    "\n",
    "**Grading traffic from a particular AS block**  \n",
    "This may be part of a decision to drop traffic coming from a single server or from the entire IP space as a Network Admin, but in this context we're simply going to grade traffic to that AS as more suspicious.\n",
    "\n",
    "**Grading traffic coming from a Country**\n",
    "Each BGP area is controlled within a Region, which then distributes to countries who have laws regarding internet traffic, hacking, etc. Some countries are more permissive than others with regard to hacking, fraud and spam. While it's incorrect and unfair to grade the citizens or services of a country based on the worst of their netizens, it's reasonable to grade countries with overly promiscuous (or non-existent) laws about hacking higher for further review. \n",
    "\n",
    "**Grading traffic coming from a Company**  \n",
    "Much of the same rules apply here - if a company has a policy for their devices to send tracking data home through your networks you should be able to know about it. If they have lax policies concerning network access or services that could host C2 or bad traffic, you should be able to know about that, too. "
   ]
  },
  {
   "cell_type": "code",
   "execution_count": 29,
   "metadata": {},
   "outputs": [],
   "source": [
    "def getDstAsInfo(ipaddress, category='asn', **kwargs):\n",
    "    \"\"\"\n",
    "    This is meant to return AS info for everything not an rfc1918 and mark rfc1918 elsewhere\n",
    "    df['Destination IP'].apply(getAsInfoKwargs, category='asncidr',axis=1)\n",
    "    \"\"\"\n",
    "    private = ['10.','172.','192.168.']\n",
    "    if '192.168' in ipaddress:\n",
    "        return 'rfc1918'\n",
    "    net = Net(ipaddress)\n",
    "    obj = IPASN(net)\n",
    "    results = obj.lookup()\n",
    "    if category is None:\n",
    "        return \"no category\"\n",
    "        #print(category)\n",
    "    \n",
    "    if category == 'reg':\n",
    "        return results['asn_registry']\n",
    "    elif category == 'asnnum':\n",
    "        return results['asn']\n",
    "    elif category == 'asncidr':\n",
    "        return results['asn_cidr']\n",
    "    elif category == 'asncc':\n",
    "        return results['asn_country_code']\n",
    "    elif category == 'asndate':\n",
    "        return results['asn_date']\n",
    "    elif category == 'asndesc':\n",
    "        return results['asn_description']\n",
    "    else:\n",
    "        return False\n",
    "    "
   ]
  },
  {
   "cell_type": "code",
   "execution_count": 26,
   "metadata": {},
   "outputs": [],
   "source": [
    "def getAsInfo(item, category='asn', **kwargs):\n",
    "    \"\"\"\n",
    "    We want to do a lookup on the non-rfc1918 address either send or receive in one fell swoop\n",
    "    \n",
    "    df[['Source IP','Destination IP']].apply(getAsInfoKwargs, category='asncidr',axis=1)\n",
    "    \n",
    "    asncidr, asn, asn_desc, asn_country\n",
    "    \"\"\"\n",
    "    one, two = item['Source IP'], item['Destination IP']\n",
    "    target_ip = one\n",
    "    \n",
    "    private = ['10.','172.','192.168.']\n",
    "    \n",
    "    # get as info for the non-rfc1918 address\n",
    "    if '192.168' in one:\n",
    "        target_ip = two\n",
    "    \n",
    "    net = Net(target_ip)\n",
    "    obj = IPASN(net)\n",
    "    results = obj.lookup()\n",
    "    \n",
    "    if category == 'reg':\n",
    "        return results['asn_registry']\n",
    "    elif category == 'asn':\n",
    "        return results['asn']\n",
    "    elif category == 'asn_cidr':\n",
    "        return results['asn_cidr']\n",
    "    elif category == 'asn_country':\n",
    "        return results['asn_country_code']\n",
    "    elif category == 'asn_date':\n",
    "        return results['asn_date']\n",
    "    elif category == 'asn_desc':\n",
    "        return results['asn_description']\n",
    "    if category == 'all':\n",
    "        return results['asn_cidr'], results['asn'], results['asn_description'],results['asn_country_code']\n",
    "    else:\n",
    "        return False\n",
    "    "
   ]
  },
  {
   "cell_type": "code",
   "execution_count": 23,
   "metadata": {},
   "outputs": [],
   "source": [
    "asdata = ['asn','asn_cidr','asn_country','asn_desc']"
   ]
  },
  {
   "cell_type": "code",
   "execution_count": 27,
   "metadata": {},
   "outputs": [],
   "source": [
    "for a in asdata:\n",
    "    df[a] =  df[['Source IP','Destination IP']].apply(getAsInfo,category=a,axis=1)"
   ]
  },
  {
   "cell_type": "code",
   "execution_count": 28,
   "metadata": {},
   "outputs": [
    {
     "data": {
      "text/html": [
       "<div>\n",
       "<style scoped>\n",
       "    .dataframe tbody tr th:only-of-type {\n",
       "        vertical-align: middle;\n",
       "    }\n",
       "\n",
       "    .dataframe tbody tr th {\n",
       "        vertical-align: top;\n",
       "    }\n",
       "\n",
       "    .dataframe thead th {\n",
       "        text-align: right;\n",
       "    }\n",
       "</style>\n",
       "<table border=\"1\" class=\"dataframe\">\n",
       "  <thead>\n",
       "    <tr style=\"text-align: right;\">\n",
       "      <th></th>\n",
       "      <th>Score</th>\n",
       "      <th>Source IP</th>\n",
       "      <th>Destination IP</th>\n",
       "      <th>Connections</th>\n",
       "      <th>Avg Bytes</th>\n",
       "      <th>Intvl Range</th>\n",
       "      <th>Size Range</th>\n",
       "      <th>Top Intvl</th>\n",
       "      <th>Top Size</th>\n",
       "      <th>Top Intvl Count</th>\n",
       "      <th>...</th>\n",
       "      <th>Intvl Dispersion</th>\n",
       "      <th>Size Dispersion</th>\n",
       "      <th>ConnString</th>\n",
       "      <th>Port:Protocol:Service</th>\n",
       "      <th>Duration</th>\n",
       "      <th>Source Name</th>\n",
       "      <th>asn</th>\n",
       "      <th>asn_cidr</th>\n",
       "      <th>asn_country</th>\n",
       "      <th>asn_desc</th>\n",
       "    </tr>\n",
       "  </thead>\n",
       "  <tbody>\n",
       "    <tr>\n",
       "      <th>0</th>\n",
       "      <td>0.835</td>\n",
       "      <td>65.254.18.118</td>\n",
       "      <td>192.168.23.89</td>\n",
       "      <td>1224</td>\n",
       "      <td>88</td>\n",
       "      <td>101090</td>\n",
       "      <td>7306</td>\n",
       "      <td>600</td>\n",
       "      <td>60</td>\n",
       "      <td>1052</td>\n",
       "      <td>...</td>\n",
       "      <td>0</td>\n",
       "      <td>0</td>\n",
       "      <td>65.254.18.118-&gt;192.168.23.89</td>\n",
       "      <td>25:tcp:- 25:tcp:smtp</td>\n",
       "      <td>596.079</td>\n",
       "      <td>smtp.jobdivabk.com</td>\n",
       "      <td>46887</td>\n",
       "      <td>65.254.0.0/19</td>\n",
       "      <td>US</td>\n",
       "      <td>LIGHTOWER, US</td>\n",
       "    </tr>\n",
       "    <tr>\n",
       "      <th>1</th>\n",
       "      <td>0.834</td>\n",
       "      <td>104.153.105.82</td>\n",
       "      <td>192.168.23.89</td>\n",
       "      <td>272</td>\n",
       "      <td>1762</td>\n",
       "      <td>356385</td>\n",
       "      <td>147842</td>\n",
       "      <td>1</td>\n",
       "      <td>0</td>\n",
       "      <td>81</td>\n",
       "      <td>...</td>\n",
       "      <td>0</td>\n",
       "      <td>0</td>\n",
       "      <td>104.153.105.82-&gt;192.168.23.89</td>\n",
       "      <td>80:tcp:- 443:tcp:- 53:udp:dns</td>\n",
       "      <td>149.911</td>\n",
       "      <td>v-104-153-105-82.unman-vds.premium-chicago.nfo...</td>\n",
       "      <td>14586</td>\n",
       "      <td>104.153.105.0/24</td>\n",
       "      <td>US</td>\n",
       "      <td>NUCLEARFALLOUT-CHI, US</td>\n",
       "    </tr>\n",
       "    <tr>\n",
       "      <th>2</th>\n",
       "      <td>0.832</td>\n",
       "      <td>192.168.23.89</td>\n",
       "      <td>212.70.149.71</td>\n",
       "      <td>3005</td>\n",
       "      <td>104</td>\n",
       "      <td>7209</td>\n",
       "      <td>45408</td>\n",
       "      <td>110</td>\n",
       "      <td>88</td>\n",
       "      <td>930</td>\n",
       "      <td>...</td>\n",
       "      <td>1</td>\n",
       "      <td>0</td>\n",
       "      <td>192.168.23.89-&gt;212.70.149.71</td>\n",
       "      <td>3:icmp:-</td>\n",
       "      <td>7123.610</td>\n",
       "      <td>192.168.23.89</td>\n",
       "      <td>204428</td>\n",
       "      <td>212.70.149.0/24</td>\n",
       "      <td>BG</td>\n",
       "      <td>SS-NET, BG</td>\n",
       "    </tr>\n",
       "    <tr>\n",
       "      <th>3</th>\n",
       "      <td>0.828</td>\n",
       "      <td>49.235.37.144</td>\n",
       "      <td>192.168.23.89</td>\n",
       "      <td>112</td>\n",
       "      <td>126</td>\n",
       "      <td>179</td>\n",
       "      <td>1853</td>\n",
       "      <td>44</td>\n",
       "      <td>60</td>\n",
       "      <td>26</td>\n",
       "      <td>...</td>\n",
       "      <td>1</td>\n",
       "      <td>0</td>\n",
       "      <td>49.235.37.144-&gt;192.168.23.89</td>\n",
       "      <td>22:tcp:- 22:tcp:ssh</td>\n",
       "      <td>103.858</td>\n",
       "      <td>49.235.37.144</td>\n",
       "      <td>45090</td>\n",
       "      <td>49.235.32.0/20</td>\n",
       "      <td>CN</td>\n",
       "      <td>CNNIC-TENCENT-NET-AP Shenzhen Tencent Computer...</td>\n",
       "    </tr>\n",
       "    <tr>\n",
       "      <th>4</th>\n",
       "      <td>0.828</td>\n",
       "      <td>192.168.23.89</td>\n",
       "      <td>119.28.83.164</td>\n",
       "      <td>38</td>\n",
       "      <td>159</td>\n",
       "      <td>241</td>\n",
       "      <td>2192</td>\n",
       "      <td>62</td>\n",
       "      <td>88</td>\n",
       "      <td>9</td>\n",
       "      <td>...</td>\n",
       "      <td>1</td>\n",
       "      <td>0</td>\n",
       "      <td>192.168.23.89-&gt;119.28.83.164</td>\n",
       "      <td>3:icmp:-</td>\n",
       "      <td>237.145</td>\n",
       "      <td>192.168.23.89</td>\n",
       "      <td>132203</td>\n",
       "      <td>119.28.82.0/23</td>\n",
       "      <td>CN</td>\n",
       "      <td>TENCENT-NET-AP-CN Tencent Building, Kejizhongy...</td>\n",
       "    </tr>\n",
       "    <tr>\n",
       "      <th>5</th>\n",
       "      <td>0.823</td>\n",
       "      <td>192.168.23.89</td>\n",
       "      <td>157.230.210.84</td>\n",
       "      <td>42</td>\n",
       "      <td>226</td>\n",
       "      <td>220</td>\n",
       "      <td>1944</td>\n",
       "      <td>208</td>\n",
       "      <td>88</td>\n",
       "      <td>7</td>\n",
       "      <td>...</td>\n",
       "      <td>2</td>\n",
       "      <td>0</td>\n",
       "      <td>192.168.23.89-&gt;157.230.210.84</td>\n",
       "      <td>3:icmp:-</td>\n",
       "      <td>117.083</td>\n",
       "      <td>192.168.23.89</td>\n",
       "      <td>14061</td>\n",
       "      <td>157.230.208.0/20</td>\n",
       "      <td>US</td>\n",
       "      <td>DIGITALOCEAN-ASN, US</td>\n",
       "    </tr>\n",
       "    <tr>\n",
       "      <th>6</th>\n",
       "      <td>0.823</td>\n",
       "      <td>192.168.23.89</td>\n",
       "      <td>49.233.77.12</td>\n",
       "      <td>102</td>\n",
       "      <td>162</td>\n",
       "      <td>268</td>\n",
       "      <td>2564</td>\n",
       "      <td>85</td>\n",
       "      <td>88</td>\n",
       "      <td>15</td>\n",
       "      <td>...</td>\n",
       "      <td>2</td>\n",
       "      <td>0</td>\n",
       "      <td>192.168.23.89-&gt;49.233.77.12</td>\n",
       "      <td>3:icmp:-</td>\n",
       "      <td>258.820</td>\n",
       "      <td>192.168.23.89</td>\n",
       "      <td>45090</td>\n",
       "      <td>49.233.64.0/20</td>\n",
       "      <td>CN</td>\n",
       "      <td>CNNIC-TENCENT-NET-AP Shenzhen Tencent Computer...</td>\n",
       "    </tr>\n",
       "    <tr>\n",
       "      <th>7</th>\n",
       "      <td>0.823</td>\n",
       "      <td>192.168.23.89</td>\n",
       "      <td>27.128.236.189</td>\n",
       "      <td>114</td>\n",
       "      <td>140</td>\n",
       "      <td>162</td>\n",
       "      <td>2036</td>\n",
       "      <td>80</td>\n",
       "      <td>88</td>\n",
       "      <td>19</td>\n",
       "      <td>...</td>\n",
       "      <td>2</td>\n",
       "      <td>0</td>\n",
       "      <td>192.168.23.89-&gt;27.128.236.189</td>\n",
       "      <td>3:icmp:-</td>\n",
       "      <td>156.136</td>\n",
       "      <td>192.168.23.89</td>\n",
       "      <td>4134</td>\n",
       "      <td>27.128.0.0/15</td>\n",
       "      <td>CN</td>\n",
       "      <td>CHINANET-BACKBONE No.31,Jin-rong Street, CN</td>\n",
       "    </tr>\n",
       "    <tr>\n",
       "      <th>8</th>\n",
       "      <td>0.823</td>\n",
       "      <td>192.168.23.89</td>\n",
       "      <td>179.97.86.254</td>\n",
       "      <td>137</td>\n",
       "      <td>133</td>\n",
       "      <td>146</td>\n",
       "      <td>2120</td>\n",
       "      <td>68</td>\n",
       "      <td>88</td>\n",
       "      <td>23</td>\n",
       "      <td>...</td>\n",
       "      <td>2</td>\n",
       "      <td>0</td>\n",
       "      <td>192.168.23.89-&gt;179.97.86.254</td>\n",
       "      <td>3:icmp:-</td>\n",
       "      <td>136.993</td>\n",
       "      <td>192.168.23.89</td>\n",
       "      <td>28361</td>\n",
       "      <td>179.97.86.0/23</td>\n",
       "      <td>BR</td>\n",
       "      <td>RR conect, BR</td>\n",
       "    </tr>\n",
       "    <tr>\n",
       "      <th>9</th>\n",
       "      <td>0.823</td>\n",
       "      <td>192.168.23.89</td>\n",
       "      <td>118.24.134.15</td>\n",
       "      <td>65</td>\n",
       "      <td>177</td>\n",
       "      <td>153</td>\n",
       "      <td>2152</td>\n",
       "      <td>136</td>\n",
       "      <td>88</td>\n",
       "      <td>11</td>\n",
       "      <td>...</td>\n",
       "      <td>2</td>\n",
       "      <td>0</td>\n",
       "      <td>192.168.23.89-&gt;118.24.134.15</td>\n",
       "      <td>3:icmp:-</td>\n",
       "      <td>136.034</td>\n",
       "      <td>192.168.23.89</td>\n",
       "      <td>45090</td>\n",
       "      <td>118.24.132.0/22</td>\n",
       "      <td>CN</td>\n",
       "      <td>CNNIC-TENCENT-NET-AP Shenzhen Tencent Computer...</td>\n",
       "    </tr>\n",
       "  </tbody>\n",
       "</table>\n",
       "<p>10 rows × 23 columns</p>\n",
       "</div>"
      ],
      "text/plain": [
       "   Score       Source IP  Destination IP  Connections  Avg Bytes  Intvl Range  \\\n",
       "0  0.835   65.254.18.118   192.168.23.89         1224         88       101090   \n",
       "1  0.834  104.153.105.82   192.168.23.89          272       1762       356385   \n",
       "2  0.832   192.168.23.89   212.70.149.71         3005        104         7209   \n",
       "3  0.828   49.235.37.144   192.168.23.89          112        126          179   \n",
       "4  0.828   192.168.23.89   119.28.83.164           38        159          241   \n",
       "5  0.823   192.168.23.89  157.230.210.84           42        226          220   \n",
       "6  0.823   192.168.23.89    49.233.77.12          102        162          268   \n",
       "7  0.823   192.168.23.89  27.128.236.189          114        140          162   \n",
       "8  0.823   192.168.23.89   179.97.86.254          137        133          146   \n",
       "9  0.823   192.168.23.89   118.24.134.15           65        177          153   \n",
       "\n",
       "   Size Range  Top Intvl  Top Size  Top Intvl Count  ...  Intvl Dispersion  \\\n",
       "0        7306        600        60             1052  ...                 0   \n",
       "1      147842          1         0               81  ...                 0   \n",
       "2       45408        110        88              930  ...                 1   \n",
       "3        1853         44        60               26  ...                 1   \n",
       "4        2192         62        88                9  ...                 1   \n",
       "5        1944        208        88                7  ...                 2   \n",
       "6        2564         85        88               15  ...                 2   \n",
       "7        2036         80        88               19  ...                 2   \n",
       "8        2120         68        88               23  ...                 2   \n",
       "9        2152        136        88               11  ...                 2   \n",
       "\n",
       "   Size Dispersion                     ConnString  \\\n",
       "0                0   65.254.18.118->192.168.23.89   \n",
       "1                0  104.153.105.82->192.168.23.89   \n",
       "2                0   192.168.23.89->212.70.149.71   \n",
       "3                0   49.235.37.144->192.168.23.89   \n",
       "4                0   192.168.23.89->119.28.83.164   \n",
       "5                0  192.168.23.89->157.230.210.84   \n",
       "6                0    192.168.23.89->49.233.77.12   \n",
       "7                0  192.168.23.89->27.128.236.189   \n",
       "8                0   192.168.23.89->179.97.86.254   \n",
       "9                0   192.168.23.89->118.24.134.15   \n",
       "\n",
       "           Port:Protocol:Service  Duration  \\\n",
       "0           25:tcp:- 25:tcp:smtp   596.079   \n",
       "1  80:tcp:- 443:tcp:- 53:udp:dns   149.911   \n",
       "2                       3:icmp:-  7123.610   \n",
       "3            22:tcp:- 22:tcp:ssh   103.858   \n",
       "4                       3:icmp:-   237.145   \n",
       "5                       3:icmp:-   117.083   \n",
       "6                       3:icmp:-   258.820   \n",
       "7                       3:icmp:-   156.136   \n",
       "8                       3:icmp:-   136.993   \n",
       "9                       3:icmp:-   136.034   \n",
       "\n",
       "                                         Source Name     asn  \\\n",
       "0                                 smtp.jobdivabk.com   46887   \n",
       "1  v-104-153-105-82.unman-vds.premium-chicago.nfo...   14586   \n",
       "2                                      192.168.23.89  204428   \n",
       "3                                      49.235.37.144   45090   \n",
       "4                                      192.168.23.89  132203   \n",
       "5                                      192.168.23.89   14061   \n",
       "6                                      192.168.23.89   45090   \n",
       "7                                      192.168.23.89    4134   \n",
       "8                                      192.168.23.89   28361   \n",
       "9                                      192.168.23.89   45090   \n",
       "\n",
       "           asn_cidr asn_country  \\\n",
       "0     65.254.0.0/19          US   \n",
       "1  104.153.105.0/24          US   \n",
       "2   212.70.149.0/24          BG   \n",
       "3    49.235.32.0/20          CN   \n",
       "4    119.28.82.0/23          CN   \n",
       "5  157.230.208.0/20          US   \n",
       "6    49.233.64.0/20          CN   \n",
       "7     27.128.0.0/15          CN   \n",
       "8    179.97.86.0/23          BR   \n",
       "9   118.24.132.0/22          CN   \n",
       "\n",
       "                                            asn_desc  \n",
       "0                                      LIGHTOWER, US  \n",
       "1                             NUCLEARFALLOUT-CHI, US  \n",
       "2                                         SS-NET, BG  \n",
       "3  CNNIC-TENCENT-NET-AP Shenzhen Tencent Computer...  \n",
       "4  TENCENT-NET-AP-CN Tencent Building, Kejizhongy...  \n",
       "5                               DIGITALOCEAN-ASN, US  \n",
       "6  CNNIC-TENCENT-NET-AP Shenzhen Tencent Computer...  \n",
       "7        CHINANET-BACKBONE No.31,Jin-rong Street, CN  \n",
       "8                                      RR conect, BR  \n",
       "9  CNNIC-TENCENT-NET-AP Shenzhen Tencent Computer...  \n",
       "\n",
       "[10 rows x 23 columns]"
      ]
     },
     "execution_count": 28,
     "metadata": {},
     "output_type": "execute_result"
    }
   ],
   "source": [
    "df[:10]\n"
   ]
  },
  {
   "cell_type": "code",
   "execution_count": null,
   "metadata": {},
   "outputs": [],
   "source": [
    "def testAsn(ip):\n",
    "    try:\n",
    "        net = Net(ip)\n",
    "        obj = IPASN(net)\n",
    "        results = obj.lookup()\n",
    "    except Exception as e:\n",
    "        return e\n",
    "    stuff = results['asn_cidr'], results['asn'], results['asn_description'],results['asn_country_code']\n",
    "    #print(results[['asn_cidr','asn','asn_description','asn_country_code']])\n",
    "#     print(results['asn_cidr'], results['asn'], results['asn_description'],results['asn_country_code'])\n",
    "#     return len(results), results\n",
    "    print(len(stuff),stuff)"
   ]
  },
  {
   "cell_type": "code",
   "execution_count": null,
   "metadata": {},
   "outputs": [],
   "source": [
    "df[['Source IP','Destination IP']][:5]"
   ]
  },
  {
   "cell_type": "code",
   "execution_count": null,
   "metadata": {},
   "outputs": [],
   "source": [
    "def testAsInfo(item):\n",
    "    one, two = item['Source IP'], item['Destination IP']\n",
    "    target_ip = one    \n",
    "    if '192.168' in one:\n",
    "        target_ip = two\n",
    "        \n",
    "    print(one, two, target_ip)"
   ]
  },
  {
   "cell_type": "code",
   "execution_count": null,
   "metadata": {},
   "outputs": [],
   "source": [
    "df[['Source IP','Destination IP']][:5].apply(getAsInfo,category='all',axis=1)"
   ]
  },
  {
   "cell_type": "code",
   "execution_count": null,
   "metadata": {},
   "outputs": [],
   "source": [
    "df[['asncidr','asn', 'asn_desc', 'asn_country']][:5]"
   ]
  },
  {
   "cell_type": "code",
   "execution_count": null,
   "metadata": {},
   "outputs": [],
   "source": [
    "df['Source IP'].apply(testAsn)"
   ]
  },
  {
   "cell_type": "code",
   "execution_count": null,
   "metadata": {},
   "outputs": [],
   "source": [
    "# seems to hate this because I want to infer 4 values from 2 values\n",
    "#df[['asncidr','asn', 'asn_desc', 'asn_country']] = df[['Source IP','Destination IP']].apply(getAsInfo,category='all',axis=1)"
   ]
  },
  {
   "cell_type": "code",
   "execution_count": null,
   "metadata": {},
   "outputs": [],
   "source": [
    "df[:3]"
   ]
  },
  {
   "cell_type": "code",
   "execution_count": null,
   "metadata": {},
   "outputs": [],
   "source": []
  },
  {
   "cell_type": "markdown",
   "metadata": {},
   "source": [
    "#### add ASN columns\n",
    "\n",
    "takes a little time for the lookups"
   ]
  },
  {
   "cell_type": "code",
   "execution_count": null,
   "metadata": {},
   "outputs": [],
   "source": [
    "# add asncidr\n",
    "df['asncidr'] = df['Destination IP'].apply(getDstAsInfo, category='asncidr',axis=1)"
   ]
  },
  {
   "cell_type": "code",
   "execution_count": null,
   "metadata": {},
   "outputs": [],
   "source": [
    "df['asn'] = df['Destination IP'].apply(getDstAsInfo, category='asnnum',axis=1)"
   ]
  },
  {
   "cell_type": "code",
   "execution_count": null,
   "metadata": {},
   "outputs": [],
   "source": [
    "df['asn_desc'] = df['Destination IP'].apply(getDstAsInfo, category='asndesc',axis=1)"
   ]
  },
  {
   "cell_type": "code",
   "execution_count": null,
   "metadata": {},
   "outputs": [],
   "source": [
    "df['asn_country'] = df['Destination IP'].apply(getDstAsInfo, category='asncc',axis=1)"
   ]
  },
  {
   "cell_type": "code",
   "execution_count": null,
   "metadata": {},
   "outputs": [],
   "source": [
    "df.head(3)"
   ]
  },
  {
   "cell_type": "markdown",
   "metadata": {},
   "source": [
    "#### for all the AS entries where we punted in dst, redo for src"
   ]
  },
  {
   "cell_type": "code",
   "execution_count": null,
   "metadata": {},
   "outputs": [],
   "source": [
    "# fill in the blanks for sources\n",
    "df['asncidr'] = df[df['asncidr'] == 'rfc1918_dst']['Source IP'].apply(getSrcAsInfo, category='asncidr',axis=1)"
   ]
  },
  {
   "cell_type": "code",
   "execution_count": null,
   "metadata": {},
   "outputs": [],
   "source": [
    "df['asn'] = df[df['asn'] == 'rfc1918_dst']['Source IP'].apply(getSrcAsInfo, category='asnnum',axis=1)"
   ]
  },
  {
   "cell_type": "code",
   "execution_count": null,
   "metadata": {},
   "outputs": [],
   "source": [
    "df['asn_desc'] = df[df['asn_desc'] == 'rfc1918_dst']['Source IP'].apply(getSrcAsInfo, category='asndesc',axis=1)"
   ]
  },
  {
   "cell_type": "code",
   "execution_count": null,
   "metadata": {},
   "outputs": [],
   "source": [
    "# countries \n",
    "df['asn_country'] = df[df['asn_country'] == 'rfc1918_dst']['Source IP'].apply(getSrcAsInfo, category='asncc',axis=1)"
   ]
  },
  {
   "cell_type": "code",
   "execution_count": null,
   "metadata": {},
   "outputs": [],
   "source": [
    "df[:10]"
   ]
  },
  {
   "cell_type": "code",
   "execution_count": null,
   "metadata": {},
   "outputs": [],
   "source": [
    "df[df['asn']== 'rfc1918_src']"
   ]
  },
  {
   "cell_type": "markdown",
   "metadata": {},
   "source": [
    "**how many are unique?**"
   ]
  },
  {
   "cell_type": "code",
   "execution_count": null,
   "metadata": {},
   "outputs": [],
   "source": [
    "len(df['asn'].unique())"
   ]
  },
  {
   "cell_type": "code",
   "execution_count": null,
   "metadata": {},
   "outputs": [],
   "source": [
    "df['asn'].unique()[:10]"
   ]
  },
  {
   "cell_type": "code",
   "execution_count": null,
   "metadata": {},
   "outputs": [],
   "source": [
    "len(df['asn_country'].unique())"
   ]
  },
  {
   "cell_type": "code",
   "execution_count": null,
   "metadata": {},
   "outputs": [],
   "source": [
    "df['asn_country'].unique()"
   ]
  },
  {
   "cell_type": "code",
   "execution_count": null,
   "metadata": {},
   "outputs": [],
   "source": [
    "countries = df['asn_country'].unique()"
   ]
  },
  {
   "cell_type": "code",
   "execution_count": null,
   "metadata": {},
   "outputs": [],
   "source": [
    "df[df['asn_desc']!= 'rfc1918'][:5]"
   ]
  },
  {
   "cell_type": "code",
   "execution_count": null,
   "metadata": {},
   "outputs": [],
   "source": [
    "df[['asn','asn_desc','Source IP']].value_counts()"
   ]
  },
  {
   "cell_type": "markdown",
   "metadata": {},
   "source": [
    "#### add AS Features\n",
    "\n",
    " Add booleans if the connection is either a known invasive tech company or in the sketchy country list."
   ]
  },
  {
   "cell_type": "code",
   "execution_count": null,
   "metadata": {},
   "outputs": [],
   "source": [
    "def is_sketchy(asn):\n",
    "    return True if asn in sketchy_countries else False "
   ]
  },
  {
   "cell_type": "code",
   "execution_count": null,
   "metadata": {},
   "outputs": [],
   "source": [
    "def is_corp(asn):\n",
    "    return True if asn in invasive_corps else False"
   ]
  },
  {
   "cell_type": "code",
   "execution_count": null,
   "metadata": {},
   "outputs": [],
   "source": [
    "def is_sketchy_provider(asn):\n",
    "    \n",
    "    return True if asn in sketchy_providers else False"
   ]
  },
  {
   "cell_type": "code",
   "execution_count": null,
   "metadata": {},
   "outputs": [],
   "source": [
    "len(df[df['asn_country'].apply(is_sketchy)])"
   ]
  },
  {
   "cell_type": "code",
   "execution_count": null,
   "metadata": {},
   "outputs": [],
   "source": [
    "df['sketchy'] = df['asn_country'].apply(is_sketchy)"
   ]
  },
  {
   "cell_type": "code",
   "execution_count": null,
   "metadata": {},
   "outputs": [],
   "source": [
    "df['iscorp'] = df['asn_desc'].apply(is_corp)"
   ]
  },
  {
   "cell_type": "code",
   "execution_count": null,
   "metadata": {},
   "outputs": [],
   "source": [
    "df['sketchy_provider'] = df['asn_desc'].apply(is_sketchy_provider)"
   ]
  },
  {
   "cell_type": "code",
   "execution_count": null,
   "metadata": {},
   "outputs": [],
   "source": [
    "df.head(3)"
   ]
  },
  {
   "cell_type": "markdown",
   "metadata": {},
   "source": [
    "### Network sanity\n",
    "\n",
    "Are DNS/Reverse protocols handled in a friendly way?\n",
    "\n",
    "- reverse pointers\n",
    "- DNS entries"
   ]
  },
  {
   "cell_type": "code",
   "execution_count": null,
   "metadata": {},
   "outputs": [],
   "source": [
    "df['Source Name'][0]"
   ]
  },
  {
   "cell_type": "code",
   "execution_count": null,
   "metadata": {},
   "outputs": [],
   "source": [
    "def isip(id):\n",
    "    \"\"\"\n",
    "    is the string an ipv4 address?\n",
    "    \"\"\"\n",
    "    try: \n",
    "        socket.inet_aton(id)\n",
    "        return True\n",
    "    except:\n",
    "        return False"
   ]
  },
  {
   "cell_type": "code",
   "execution_count": null,
   "metadata": {},
   "outputs": [],
   "source": [
    "def has_dns(id):\n",
    "    \"\"\"\n",
    "    earlier we checked for a dns entry and return an IP if none is found.\n",
    "    here we say \"if that id is an IP then there was no DNS record\"\n",
    "    \"\"\"\n",
    "    try: \n",
    "        socket.inet_aton(id)\n",
    "        return False\n",
    "    except:\n",
    "        return True"
   ]
  },
  {
   "cell_type": "code",
   "execution_count": null,
   "metadata": {},
   "outputs": [],
   "source": [
    "def has_ptr(id):\n",
    "    \"\"\"\n",
    "    earlier we checked for a ptr and return an IP if none is found.\n",
    "    here we say \"if that id is an IP then there was no PTR record\"\n",
    "    \"\"\"\n",
    "    try: \n",
    "        socket.inet_aton(id)\n",
    "        return False\n",
    "    except:\n",
    "        return True"
   ]
  },
  {
   "cell_type": "code",
   "execution_count": null,
   "metadata": {},
   "outputs": [],
   "source": [
    "df['Source Name'].apply(isip)"
   ]
  },
  {
   "cell_type": "code",
   "execution_count": null,
   "metadata": {},
   "outputs": [],
   "source": [
    "df['src_ptr'] = df['Source Name'].apply(has_ptr)\n",
    "df['dst_ptr'] = df['Destination Name'].apply(has_ptr)\n",
    "df['src_dns'] = df['Source Name'].apply(has_dns)\n",
    "df['dst_dns'] = df['Destination Name'].apply(has_dns)\n"
   ]
  },
  {
   "cell_type": "code",
   "execution_count": null,
   "metadata": {},
   "outputs": [],
   "source": []
  },
  {
   "cell_type": "code",
   "execution_count": null,
   "metadata": {},
   "outputs": [],
   "source": [
    "df.head(3)"
   ]
  },
  {
   "cell_type": "code",
   "execution_count": null,
   "metadata": {},
   "outputs": [],
   "source": []
  },
  {
   "cell_type": "markdown",
   "metadata": {},
   "source": [
    "**did we miss any?**"
   ]
  },
  {
   "cell_type": "code",
   "execution_count": null,
   "metadata": {},
   "outputs": [],
   "source": [
    "# weird entry - whois returns the AS info, but no description or prefix\n",
    "# AS      | IP               | BGP Prefix          | CC | Registry | Allocated  | AS Name\n",
    "# NA      | 69.195.171.128   | NA                  | US | arin     | 2017-09-18 | NA\n",
    "# From Hurricane Electric - Twitter:\n",
    "# AS13414 IRR Valid 69.195.171.0/24 Twitter Inc.\n",
    "df[df['asn'] == 'NA']"
   ]
  },
  {
   "cell_type": "markdown",
   "metadata": {},
   "source": [
    "### Checking for fail2ban entries\n",
    "\n",
    "https://www.fail2ban.org/wiki/index.php/Main_Page\n",
    "\n",
    "If you aren't familiar, fail2ban scans log files (e.g. /var/log/apache/error_log) and bans IPs that show malicious signs -- too many password failures, seeking for exploits, etc. If something hammers the logs enough to trigger a fail2ban entry this adds suspicion to the originating connection. \n",
    "\n",
    "A return of ICMP 3 (unreachable) means that the host was caught by fail2ban so we can filter on that from the logs.\n",
    "\n",
    "\n",
    "\n"
   ]
  },
  {
   "cell_type": "code",
   "execution_count": null,
   "metadata": {},
   "outputs": [],
   "source": [
    "# here we show the unique protocols available in our test\n",
    "len(df['Port:Protocol:Service'].unique())"
   ]
  },
  {
   "cell_type": "code",
   "execution_count": null,
   "metadata": {},
   "outputs": [],
   "source": [
    "# and here's a count of which protocols are represented in our sample\n",
    "df['Port:Protocol:Service'].value_counts()"
   ]
  },
  {
   "cell_type": "code",
   "execution_count": null,
   "metadata": {},
   "outputs": [],
   "source": [
    "#services = {'icmp':3,'ssh':22,'smtp':25,'dns':53,'ssl':443,'http':80}\n",
    "services = ['icmp','ssh','smtp','dns','ssl','http']"
   ]
  },
  {
   "cell_type": "code",
   "execution_count": null,
   "metadata": {},
   "outputs": [],
   "source": [
    "def f2b_marked(s):\n",
    "    \"\"\"\n",
    "    fail2ban responds to connection overload by replying with ICMP type 3 \"unreachable\"\n",
    "    if this exists in the connection, we'll presume that this host was flooding\n",
    "    \"\"\"\n",
    "    if 'icmp' in s:\n",
    "        return True\n",
    "    return False"
   ]
  },
  {
   "cell_type": "code",
   "execution_count": null,
   "metadata": {},
   "outputs": [],
   "source": [
    "# multiple match list\n",
    "# [s for s in my_list if any(xs in s for xs in matchers)] # greedy - returns too much\n",
    "# {s for s in my_list for xs in matchers if xs in s}"
   ]
  },
  {
   "cell_type": "code",
   "execution_count": null,
   "metadata": {},
   "outputs": [],
   "source": [
    "# add fail2ban hit feature\n",
    "df['fail2ban'] = df['Port:Protocol:Service'].apply(f2b_marked)"
   ]
  },
  {
   "cell_type": "code",
   "execution_count": null,
   "metadata": {},
   "outputs": [],
   "source": []
  },
  {
   "cell_type": "markdown",
   "metadata": {},
   "source": [
    "### some simple aggregated term analysis\n"
   ]
  },
  {
   "cell_type": "code",
   "execution_count": null,
   "metadata": {},
   "outputs": [],
   "source": [
    "# sketchy is false\n",
    "df[~df['sketchy']][:3]"
   ]
  },
  {
   "cell_type": "code",
   "execution_count": null,
   "metadata": {},
   "outputs": [],
   "source": [
    "# connections flagged by fail2ban with no DNS entry\n",
    "df[(~df['dst_dns'])&(df['fail2ban'])]"
   ]
  },
  {
   "cell_type": "markdown",
   "metadata": {},
   "source": [
    "### Extracts using the flags\n",
    "\n",
    "Now we can use pandas and the features to test the output."
   ]
  },
  {
   "cell_type": "code",
   "execution_count": null,
   "metadata": {},
   "outputs": [],
   "source": [
    "# all providers where connection has no dst_ptr or dst_dns and has a fail2ban hit\n",
    "df[(~df['dst_ptr'])&(~df['dst_dns']) &(df['fail2ban'])].asn_desc.unique()"
   ]
  },
  {
   "cell_type": "code",
   "execution_count": null,
   "metadata": {},
   "outputs": [],
   "source": [
    "# grab the value of the asn_desc where the item not sketchy\n",
    "df[(~df['sketchy']) & (~df['src_dns'])][:3]"
   ]
  },
  {
   "cell_type": "code",
   "execution_count": null,
   "metadata": {},
   "outputs": [],
   "source": [
    "df[(~df['sketchy']) &(df['fail2ban'])][:3]"
   ]
  },
  {
   "cell_type": "markdown",
   "metadata": {},
   "source": [
    "### what AS regions get the most traffic?"
   ]
  },
  {
   "cell_type": "code",
   "execution_count": null,
   "metadata": {},
   "outputs": [],
   "source": [
    "df[['asn','asn_desc','Source IP']].value_counts()"
   ]
  },
  {
   "cell_type": "code",
   "execution_count": null,
   "metadata": {},
   "outputs": [],
   "source": [
    "df[['asn','asn_desc','Source IP']][:11].value_counts()"
   ]
  },
  {
   "cell_type": "markdown",
   "metadata": {},
   "source": [
    "### Stats analysis"
   ]
  },
  {
   "cell_type": "code",
   "execution_count": null,
   "metadata": {},
   "outputs": [],
   "source": [
    "# describe the stats\n",
    "df.describe()"
   ]
  },
  {
   "cell_type": "markdown",
   "metadata": {},
   "source": [
    "mean score"
   ]
  },
  {
   "cell_type": "code",
   "execution_count": null,
   "metadata": {},
   "outputs": [],
   "source": [
    "df['Score'].mean().round(3)"
   ]
  },
  {
   "cell_type": "markdown",
   "metadata": {},
   "source": [
    "mean duration in ms"
   ]
  },
  {
   "cell_type": "code",
   "execution_count": null,
   "metadata": {},
   "outputs": [],
   "source": [
    "df['Duration'].mean().round(3)"
   ]
  },
  {
   "cell_type": "markdown",
   "metadata": {},
   "source": [
    "relative item correlation"
   ]
  },
  {
   "cell_type": "code",
   "execution_count": null,
   "metadata": {},
   "outputs": [],
   "source": [
    "df.corr()"
   ]
  },
  {
   "cell_type": "markdown",
   "metadata": {},
   "source": [
    "#### adding a heatmap to the correlation\n",
    "\n",
    "This data doesn't have corporate returns or ASs from the sketchy provider map. \n",
    "TODO: sort out sketchy providers from the data at the start of the definitions"
   ]
  },
  {
   "cell_type": "code",
   "execution_count": null,
   "metadata": {},
   "outputs": [],
   "source": [
    "fig= plt.figure(figsize=(15,8))\n",
    "sns.heatmap(df.corr(), linewidths=.1, linecolor='black')"
   ]
  },
  {
   "cell_type": "markdown",
   "metadata": {},
   "source": [
    "### adding viz and stats"
   ]
  },
  {
   "cell_type": "markdown",
   "metadata": {},
   "source": [
    "What are the most prevalent AS Numbers?"
   ]
  },
  {
   "cell_type": "code",
   "execution_count": null,
   "metadata": {},
   "outputs": [],
   "source": [
    "df['asn'][:30].value_counts().plot(kind='bar')"
   ]
  },
  {
   "cell_type": "markdown",
   "metadata": {},
   "source": [
    "Where are they coming from?"
   ]
  },
  {
   "cell_type": "code",
   "execution_count": null,
   "metadata": {},
   "outputs": [],
   "source": [
    "df['asn_desc'][:30].value_counts().plot(kind='bar')"
   ]
  },
  {
   "cell_type": "markdown",
   "metadata": {},
   "source": [
    "What countries account for the most traffic?"
   ]
  },
  {
   "cell_type": "code",
   "execution_count": null,
   "metadata": {},
   "outputs": [],
   "source": [
    "df['asn_country'][:10].value_counts().plot(kind='bar')"
   ]
  },
  {
   "cell_type": "markdown",
   "metadata": {},
   "source": [
    "Is there a correlation between average bytes and number of connections?"
   ]
  },
  {
   "cell_type": "code",
   "execution_count": null,
   "metadata": {},
   "outputs": [],
   "source": [
    "df[['Avg Bytes','Connections']][:10].plot()"
   ]
  },
  {
   "cell_type": "markdown",
   "metadata": {},
   "source": [
    "**whats the relative occurrance of high beacon traffic?**"
   ]
  },
  {
   "cell_type": "markdown",
   "metadata": {},
   "source": [
    "How about the occurrange of high beaconish traffic?"
   ]
  },
  {
   "cell_type": "code",
   "execution_count": null,
   "metadata": {},
   "outputs": [],
   "source": [
    "df[['Score']][:30].plot(y='Score')"
   ]
  },
  {
   "cell_type": "code",
   "execution_count": null,
   "metadata": {},
   "outputs": [],
   "source": [
    "sns.distplot(df['Score'])"
   ]
  },
  {
   "cell_type": "markdown",
   "metadata": {},
   "source": [
    "**how about long duration**"
   ]
  },
  {
   "cell_type": "code",
   "execution_count": null,
   "metadata": {},
   "outputs": [],
   "source": [
    "sns.distplot(df['Duration'])"
   ]
  },
  {
   "cell_type": "markdown",
   "metadata": {},
   "source": [
    "#### how about services?\n"
   ]
  },
  {
   "cell_type": "code",
   "execution_count": null,
   "metadata": {},
   "outputs": [],
   "source": [
    "# The highest hits is fail2ban attempting to quash traffic, so we'll remove the ICMP entries\n",
    "df[~df['Port:Protocol:Service'].str.contains('icmp')]['Port:Protocol:Service'].value_counts().plot(kind='bar')"
   ]
  },
  {
   "cell_type": "code",
   "execution_count": null,
   "metadata": {},
   "outputs": [],
   "source": []
  },
  {
   "cell_type": "markdown",
   "metadata": {},
   "source": [
    "### High Beaconish Originators"
   ]
  },
  {
   "cell_type": "code",
   "execution_count": null,
   "metadata": {},
   "outputs": [],
   "source": [
    "df[(df['Score'] >.80)][3:]['asn_desc']"
   ]
  },
  {
   "cell_type": "code",
   "execution_count": null,
   "metadata": {},
   "outputs": [],
   "source": [
    "df['asn_country'].value_counts()"
   ]
  },
  {
   "cell_type": "code",
   "execution_count": null,
   "metadata": {},
   "outputs": [],
   "source": [
    "# highest traffic country entries\n",
    "df[df['asn_country'] =='CN']"
   ]
  },
  {
   "cell_type": "markdown",
   "metadata": {},
   "source": [
    "### build a view of connections where duration value is short and beaconish is high"
   ]
  },
  {
   "cell_type": "code",
   "execution_count": null,
   "metadata": {},
   "outputs": [],
   "source": [
    "# What are the relative duration statistics?\n",
    "df['Duration'].describe()"
   ]
  },
  {
   "cell_type": "code",
   "execution_count": null,
   "metadata": {},
   "outputs": [],
   "source": [
    "# What is the relative score distribution?\n",
    "df['Score'].describe()"
   ]
  },
  {
   "cell_type": "code",
   "execution_count": null,
   "metadata": {},
   "outputs": [],
   "source": [
    "# looking at raw duration length values\n",
    "df['Duration'].sort_values()"
   ]
  },
  {
   "cell_type": "markdown",
   "metadata": {},
   "source": [
    "**Start drilling down**\n",
    "\n",
    "Find the mean of all the Duration values. Use the Mean to determine how ordinary the duration of the traffic is"
   ]
  },
  {
   "cell_type": "code",
   "execution_count": null,
   "metadata": {},
   "outputs": [],
   "source": [
    "# \n",
    "df['Duration'].mean()"
   ]
  },
  {
   "cell_type": "code",
   "execution_count": null,
   "metadata": {},
   "outputs": [],
   "source": [
    "# Show only durations below the mean\n",
    "df[df['Duration'] < df['Duration'].mean()]"
   ]
  },
  {
   "cell_type": "markdown",
   "metadata": {},
   "source": [
    "**what are connections where duration is below a particular quantile?**"
   ]
  },
  {
   "cell_type": "code",
   "execution_count": null,
   "metadata": {},
   "outputs": [],
   "source": [
    "df[df['Duration'] < df['Duration'].quantile(.2)]"
   ]
  },
  {
   "cell_type": "markdown",
   "metadata": {},
   "source": [
    "**connections where duration value is short and beaconish is high**\n",
    "\n",
    "- only get low duration connections which exhibit above %75 beaconism \n",
    "\n",
    "In this case, there a bunch of ICMP messages originating from my host heading to (mostly) China. If fail2ban wasn't running this might be cause for further investigation, but fail2ban sends ICMP type 3 packets to an originator when it gets jailed. We're catching this upstream in the fail2ban column. "
   ]
  },
  {
   "cell_type": "code",
   "execution_count": null,
   "metadata": {},
   "outputs": [],
   "source": [
    "print(len(df[(df['Duration'] < df['Duration'].quantile(.2)) & (df['Score'] > .75)]))\n",
    "df[(df['Duration'] < df['Duration'].quantile(.2)) & (df['Score'] > .75)][:3]"
   ]
  },
  {
   "cell_type": "markdown",
   "metadata": {},
   "source": [
    "**if anything is left that's not fail2ban there is something to dig further into**"
   ]
  },
  {
   "cell_type": "code",
   "execution_count": null,
   "metadata": {},
   "outputs": [],
   "source": [
    "# if anything is left that's not fail2ban there is something to dig further into\n",
    "df[(df['Duration'] < df['Duration'].quantile(.2)) & (df['Score'] > .75)&(~df['fail2ban'])][:10]"
   ]
  },
  {
   "cell_type": "markdown",
   "metadata": {},
   "source": [
    "**is anything not originating from my ip?**"
   ]
  },
  {
   "cell_type": "code",
   "execution_count": null,
   "metadata": {},
   "outputs": [],
   "source": [
    "# is anything not originating from my ip?\n",
    "df[(df['Duration'] < df['Duration'].quantile(.2)) & (df['Score'] > .75)]['Source IP'].unique()"
   ]
  },
  {
   "cell_type": "markdown",
   "metadata": {},
   "source": [
    "**look at only non-fail2ban items where Duration is in the upper quantile, Score is greater than .75 and originates from my server**"
   ]
  },
  {
   "cell_type": "code",
   "execution_count": null,
   "metadata": {},
   "outputs": [],
   "source": [
    "# look at only non-fail2ban items where Duration is in the upper quantile, Score is greater than .75 and originates from my server\n",
    "# nothing here - so it looks like beaconish activity here is fail2ban related (handled by )\n",
    "df[(df['Duration'] < df['Duration'].quantile(.2)) & (df['Score'] > .75)& (~df['fail2ban']) &(df['Source IP'].str.contains('192.168.23.89'))]"
   ]
  },
  {
   "cell_type": "code",
   "execution_count": null,
   "metadata": {},
   "outputs": [],
   "source": [
    "df[(df['Duration'] < df['Duration'].quantile(.2)) & (df['Score'] > .75)&(df['Source IP'] != '192.168.23.89')]"
   ]
  },
  {
   "cell_type": "markdown",
   "metadata": {},
   "source": [
    "**a quick tool to see if an ipaddress is in the pandas datastore**"
   ]
  },
  {
   "cell_type": "code",
   "execution_count": null,
   "metadata": {},
   "outputs": [],
   "source": [
    "def showline(ipaddress):\n",
    "    return df[df['Source IP'] == ipaddress]"
   ]
  },
  {
   "cell_type": "code",
   "execution_count": null,
   "metadata": {},
   "outputs": [],
   "source": [
    "showline('123.127.244.100')"
   ]
  },
  {
   "cell_type": "markdown",
   "metadata": {},
   "source": [
    "**where are ssh connections coming/going?**"
   ]
  },
  {
   "cell_type": "code",
   "execution_count": null,
   "metadata": {},
   "outputs": [],
   "source": [
    "# where are ssh connections coming/going?\n",
    "# everything appears to be incoming, so we aren't launching any attacks\n",
    "df[(df['Port:Protocol:Service'].str.contains('ssh')) & (df['Source IP'] != \"10.4.86.55\")]['ConnString'].unique()"
   ]
  },
  {
   "cell_type": "markdown",
   "metadata": {},
   "source": [
    "**show all unique source names with scores above 80%**"
   ]
  },
  {
   "cell_type": "code",
   "execution_count": null,
   "metadata": {},
   "outputs": [],
   "source": [
    "# show all unique source names with scores above 80%\n",
    "df[df['Score']> .8]['Source Name'].unique()"
   ]
  },
  {
   "cell_type": "markdown",
   "metadata": {},
   "source": [
    "### Blacklists\n",
    "\n",
    "Adding a blacklist heuristic. Most of rita-bl seems borked right now (stale data, backends offline, etc). In the meantime, lets get visibility using the spamhaus data."
   ]
  },
  {
   "cell_type": "code",
   "execution_count": null,
   "metadata": {},
   "outputs": [],
   "source": [
    "# importing a custom, line-delimited list\n",
    "blacklistraw = open('20210827154850_blacklisted_ips.txt','r').readlines()\n",
    "blacklist = [x.strip('\\n') for x in blacklistraw]"
   ]
  },
  {
   "cell_type": "code",
   "execution_count": null,
   "metadata": {},
   "outputs": [],
   "source": [
    "def blacklist_test(ip):\n",
    "    badreturns = []\n",
    "    hits = []\n",
    "    if ip in blacklist:\n",
    "        hits.append(ip)\n",
    "#     else:\n",
    "#         badreturns.append(ip)\n",
    "    if len(hits) > 0:\n",
    "        return hits"
   ]
  },
  {
   "cell_type": "code",
   "execution_count": null,
   "metadata": {},
   "outputs": [],
   "source": [
    "def in_blacklist(ip):\n",
    "    if ip not in blacklist:\n",
    "        return False\n",
    "    return True"
   ]
  },
  {
   "cell_type": "code",
   "execution_count": null,
   "metadata": {},
   "outputs": [],
   "source": [
    "# add feature\n",
    "df['blacklisted'] = df['Destination IP'].apply(in_blacklist)"
   ]
  },
  {
   "cell_type": "code",
   "execution_count": null,
   "metadata": {},
   "outputs": [],
   "source": [
    "# are there any hits?\n",
    "df[df['blacklisted']]"
   ]
  },
  {
   "cell_type": "markdown",
   "metadata": {},
   "source": [
    "### Heuristics \n",
    "#### show the tally points\n",
    "\n",
    "Here we want to score based on the conditions. Some things are bad if they're True (sketchy TLD like Russia or China) some are bad if they're False (no reverse_ptr). Scoring needs a scale: some things are inherently worse (domain is the source of an attack in the wild) and some are not (reverse DNS).\n",
    "\n",
    "reasons to believe the traffic is not good (this could use expansion)\n",
    "sketchy - if True (the connection is from a poorly managed country tld) add 3\n",
    "fail2ban - if True (domain is spawning attacks in the wild) add 3\n",
    "sketchy_provider - if True then bad - add 3\n",
    "\n",
    "formal laziness: \n",
    "src_ptr - if they are the source and his is false, then bad 2\n",
    "dst_ptr - if they are the dst and it is false, then bad 2\n",
    "src_dns - if they are the source and his is false, then bad 2\n",
    "dst_dns - if they are the dst and it is false, then bad 2\n",
    "\n",
    "corporate canaries:\n",
    "iscorp - corporate canaries (apple, google, microsoft, etc). If true, then bad (though probably harmless). 1  \n",
    "\n",
    "\n",
    "\n",
    "so what I need is:\n",
    "- a feature that lets me know if src/dst is important for ptr and dns\n",
    "- a function that returns the value if the feature is present for each item and then tallies a score to be added as a feature."
   ]
  },
  {
   "cell_type": "code",
   "execution_count": null,
   "metadata": {},
   "outputs": [],
   "source": [
    "# adding a \"score\" feature first - Beaconish Score (how likely is this a problematic beacon?)\n",
    "df['bscore'] = 0"
   ]
  },
  {
   "cell_type": "code",
   "execution_count": null,
   "metadata": {},
   "outputs": [],
   "source": [
    "# we're tallying on these columns\n",
    "df[['sketchy','src_ptr','dst_ptr','iscorp','sketchy_provider','src_dns','dst_dns','fail2ban', 'blacklisted']][:5]"
   ]
  },
  {
   "cell_type": "code",
   "execution_count": null,
   "metadata": {},
   "outputs": [],
   "source": [
    "def tally_total(item):\n",
    "    \"\"\"\n",
    "    tally up scores per row. \n",
    "    where are we **sending** data (beacons)?\n",
    "    need the columns\n",
    "    df[['Score','asn',sketchy','src_ptr','dst_ptr','iscorp','sketchy_provider','src_dns','dst_dns','fail2ban','blacklisted']]\n",
    "\n",
    "    must call apply with axis=1 e.g.\n",
    "    df[['Score','asn','sketchy','src_ptr','dst_ptr','iscorp','sketchy_provider','src_dns','dst_dns','fail2ban','blacklisted']].apply(test_return,axis=1)\n",
    "    \"\"\"\n",
    "\n",
    "    total=item['bscore']\n",
    "    \n",
    "    # presuming our internal network is in RFC1918. Open Internet Addresses should have reverse pointers and DNS, even if we don't internally\n",
    "    if item['asn'] == 'rfc1918':\n",
    "        if not item['src_ptr']:\n",
    "            total +=2\n",
    "        elif not item['src_dns']:\n",
    "            total +=2\n",
    "    elif item['asn'] != 'rfc1918':\n",
    "        if not item['dst_ptr']:\n",
    "            total +=2\n",
    "        elif not item['dst_dns']:\n",
    "            total +=2\n",
    "    # fail2ban violations are from \n",
    "    if item['fail2ban'] :\n",
    "        total +=3\n",
    "    # is the connection to a sketchy country?\n",
    "    elif item['sketchy']:\n",
    "        total+=3\n",
    "    # how about to a sketchy provider?\n",
    "    elif item['sketchy_provider']:\n",
    "        total +=3\n",
    "    # is the IP in the spamhaus blacklist?\n",
    "    elif item['blacklisted']:\n",
    "        total +=3\n",
    "    # corporate spyware is the lowest priority. This scoring should make it easier to build filters, also.\n",
    "    elif item['iscorp']:\n",
    "        total +=1\n",
    "    return total\n",
    "        \n",
    "        "
   ]
  },
  {
   "cell_type": "code",
   "execution_count": null,
   "metadata": {},
   "outputs": [],
   "source": [
    "# using tally_total\n",
    "df[['bscore','asn','sketchy','src_ptr','dst_ptr','iscorp','sketchy_provider','src_dns','dst_dns','fail2ban','blacklisted']][:10].apply(tally_total,axis=1)"
   ]
  },
  {
   "cell_type": "code",
   "execution_count": null,
   "metadata": {},
   "outputs": [],
   "source": [
    "# full scoring\n",
    "# using tally_total\n",
    "df['bscore'] = df[['bscore','asn','sketchy','src_ptr','dst_ptr','iscorp','sketchy_provider','src_dns','dst_dns','fail2ban','blacklisted']].apply(tally_total,axis=1)"
   ]
  },
  {
   "cell_type": "code",
   "execution_count": null,
   "metadata": {},
   "outputs": [],
   "source": [
    "df[:5].sort_values(by='bscore', ascending=False)"
   ]
  },
  {
   "cell_type": "markdown",
   "metadata": {},
   "source": [
    "#### Now create a total score\n",
    "\n",
    "Now to make the single value that represents RITA's statistical analysis score ('Score') and our heuristical score ('bscore'). For the moment it seems that Score * bscore is useful because Score is a Percentage which should scale the raw heuristical tally nicely."
   ]
  },
  {
   "cell_type": "code",
   "execution_count": null,
   "metadata": {},
   "outputs": [],
   "source": [
    "def total_score(row):\n",
    "    \"\"\"\n",
    "    multiply RITA score and bscore\n",
    "    Usage:\n",
    "    df[['Score','bscore']].apply(total_score,axis=1)\n",
    "    \"\"\"\n",
    "    return row['Score'] * row['bscore']"
   ]
  },
  {
   "cell_type": "code",
   "execution_count": null,
   "metadata": {},
   "outputs": [],
   "source": [
    "df[['Score','bscore']][:10].apply(total_score,axis=1)"
   ]
  },
  {
   "cell_type": "markdown",
   "metadata": {},
   "source": [
    "##### create the new feature"
   ]
  },
  {
   "cell_type": "code",
   "execution_count": null,
   "metadata": {},
   "outputs": [],
   "source": [
    "df['total_score'] = df[['Score','bscore']].apply(total_score,axis=1)"
   ]
  },
  {
   "cell_type": "markdown",
   "metadata": {},
   "source": [
    "##### Sort the list by total score \n",
    "\n",
    "Non-corp connections should bubble up and we should only be grading on bad actors and malware."
   ]
  },
  {
   "cell_type": "code",
   "execution_count": null,
   "metadata": {},
   "outputs": [],
   "source": [
    "df[:10].sort_values(by='total_score', ascending=False)"
   ]
  },
  {
   "cell_type": "markdown",
   "metadata": {},
   "source": [
    "## Final\n",
    "\n",
    "And that's the basic process. I want to be able to scan through connections at least daily, then export the outputs to a datastore or to reporting for the Sec Team to follow up on. \n",
    "\n",
    "TODOs include: \n",
    "- building this into a running script\n",
    "- summarize this as a report (that could be used to kick off tickets)\n",
    "- auto export the ranking to a datastore that other apps could use\n",
    "- make the heuristics modular such that we can import blacklists, etc\n",
    "\n"
   ]
  },
  {
   "cell_type": "code",
   "execution_count": null,
   "metadata": {},
   "outputs": [],
   "source": []
  },
  {
   "cell_type": "code",
   "execution_count": null,
   "metadata": {},
   "outputs": [],
   "source": [
    "df.columns"
   ]
  },
  {
   "cell_type": "markdown",
   "metadata": {},
   "source": [
    "## Summarize reporting"
   ]
  },
  {
   "cell_type": "code",
   "execution_count": null,
   "metadata": {},
   "outputs": [],
   "source": [
    "df[['Score','bscore', 'total_score','Source Name', 'Destination Name', 'Connections', 'Avg Bytes','asn_desc','asn_country']].sort_values(by='total_score', ascending=False)"
   ]
  },
  {
   "cell_type": "code",
   "execution_count": null,
   "metadata": {},
   "outputs": [],
   "source": []
  },
  {
   "cell_type": "code",
   "execution_count": null,
   "metadata": {},
   "outputs": [],
   "source": []
  }
 ],
 "metadata": {
  "kernelspec": {
   "display_name": "Python 3",
   "language": "python",
   "name": "python3"
  },
  "language_info": {
   "codemirror_mode": {
    "name": "ipython",
    "version": 3
   },
   "file_extension": ".py",
   "mimetype": "text/x-python",
   "name": "python",
   "nbconvert_exporter": "python",
   "pygments_lexer": "ipython3",
   "version": "3.9.5"
  }
 },
 "nbformat": 4,
 "nbformat_minor": 2
}
